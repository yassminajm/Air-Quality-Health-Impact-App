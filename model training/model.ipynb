{
 "cells": [
  {
   "cell_type": "markdown",
   "id": "b5779d4d",
   "metadata": {},
   "source": [
    "## 0. Import libraries"
   ]
  },
  {
   "cell_type": "code",
   "execution_count": 1,
   "id": "4ecfdd16",
   "metadata": {},
   "outputs": [],
   "source": [
    "# 1\n",
    "import pandas as pd\n",
    "\n",
    "# 2\n",
    "from sklearn.preprocessing import StandardScaler\n",
    "# !pip install scikit-learn==1.2.2\n",
    "# !pip install imbalanced-learn==0.10.1\n",
    "from imblearn.over_sampling import SMOTE\n",
    "from sklearn.model_selection import train_test_split\n",
    "\n",
    "# 3\n",
    "from sklearn.metrics import classification_report\n",
    "from sklearn.ensemble import AdaBoostClassifier, RandomForestClassifier\n",
    "from xgboost import XGBClassifier\n",
    "\n",
    "# 4\n",
    "import joblib"
   ]
  },
  {
   "cell_type": "markdown",
   "id": "013fb406",
   "metadata": {},
   "source": [
    "## 1. Load data"
   ]
  },
  {
   "cell_type": "code",
   "execution_count": 2,
   "id": "c0a5b96e",
   "metadata": {},
   "outputs": [
    {
     "data": {
      "text/html": [
       "<div>\n",
       "<style scoped>\n",
       "    .dataframe tbody tr th:only-of-type {\n",
       "        vertical-align: middle;\n",
       "    }\n",
       "\n",
       "    .dataframe tbody tr th {\n",
       "        vertical-align: top;\n",
       "    }\n",
       "\n",
       "    .dataframe thead th {\n",
       "        text-align: right;\n",
       "    }\n",
       "</style>\n",
       "<table border=\"1\" class=\"dataframe\">\n",
       "  <thead>\n",
       "    <tr style=\"text-align: right;\">\n",
       "      <th></th>\n",
       "      <th>RecordID</th>\n",
       "      <th>AQI</th>\n",
       "      <th>PM10</th>\n",
       "      <th>PM2_5</th>\n",
       "      <th>NO2</th>\n",
       "      <th>SO2</th>\n",
       "      <th>O3</th>\n",
       "      <th>Temperature</th>\n",
       "      <th>Humidity</th>\n",
       "      <th>WindSpeed</th>\n",
       "      <th>RespiratoryCases</th>\n",
       "      <th>CardiovascularCases</th>\n",
       "      <th>HospitalAdmissions</th>\n",
       "      <th>HealthImpactScore</th>\n",
       "      <th>HealthImpactClass</th>\n",
       "    </tr>\n",
       "  </thead>\n",
       "  <tbody>\n",
       "    <tr>\n",
       "      <th>0</th>\n",
       "      <td>1</td>\n",
       "      <td>187.270059</td>\n",
       "      <td>295.853039</td>\n",
       "      <td>13.038560</td>\n",
       "      <td>6.639263</td>\n",
       "      <td>66.161150</td>\n",
       "      <td>54.624280</td>\n",
       "      <td>5.150335</td>\n",
       "      <td>84.424344</td>\n",
       "      <td>6.137755</td>\n",
       "      <td>7</td>\n",
       "      <td>5</td>\n",
       "      <td>1</td>\n",
       "      <td>97.244041</td>\n",
       "      <td>0.0</td>\n",
       "    </tr>\n",
       "    <tr>\n",
       "      <th>1</th>\n",
       "      <td>2</td>\n",
       "      <td>475.357153</td>\n",
       "      <td>246.254703</td>\n",
       "      <td>9.984497</td>\n",
       "      <td>16.318326</td>\n",
       "      <td>90.499523</td>\n",
       "      <td>169.621728</td>\n",
       "      <td>1.543378</td>\n",
       "      <td>46.851415</td>\n",
       "      <td>4.521422</td>\n",
       "      <td>10</td>\n",
       "      <td>2</td>\n",
       "      <td>0</td>\n",
       "      <td>100.000000</td>\n",
       "      <td>0.0</td>\n",
       "    </tr>\n",
       "    <tr>\n",
       "      <th>2</th>\n",
       "      <td>3</td>\n",
       "      <td>365.996971</td>\n",
       "      <td>84.443191</td>\n",
       "      <td>23.111340</td>\n",
       "      <td>96.317811</td>\n",
       "      <td>17.875850</td>\n",
       "      <td>9.006794</td>\n",
       "      <td>1.169483</td>\n",
       "      <td>17.806977</td>\n",
       "      <td>11.157384</td>\n",
       "      <td>13</td>\n",
       "      <td>3</td>\n",
       "      <td>0</td>\n",
       "      <td>100.000000</td>\n",
       "      <td>0.0</td>\n",
       "    </tr>\n",
       "    <tr>\n",
       "      <th>3</th>\n",
       "      <td>4</td>\n",
       "      <td>299.329242</td>\n",
       "      <td>21.020609</td>\n",
       "      <td>14.273403</td>\n",
       "      <td>81.234403</td>\n",
       "      <td>48.323616</td>\n",
       "      <td>93.161033</td>\n",
       "      <td>21.925276</td>\n",
       "      <td>99.473373</td>\n",
       "      <td>15.302500</td>\n",
       "      <td>8</td>\n",
       "      <td>8</td>\n",
       "      <td>1</td>\n",
       "      <td>100.000000</td>\n",
       "      <td>0.0</td>\n",
       "    </tr>\n",
       "    <tr>\n",
       "      <th>4</th>\n",
       "      <td>5</td>\n",
       "      <td>78.009320</td>\n",
       "      <td>16.987667</td>\n",
       "      <td>152.111623</td>\n",
       "      <td>121.235461</td>\n",
       "      <td>90.866167</td>\n",
       "      <td>241.795138</td>\n",
       "      <td>9.217517</td>\n",
       "      <td>24.906837</td>\n",
       "      <td>14.534733</td>\n",
       "      <td>9</td>\n",
       "      <td>0</td>\n",
       "      <td>1</td>\n",
       "      <td>95.182643</td>\n",
       "      <td>0.0</td>\n",
       "    </tr>\n",
       "    <tr>\n",
       "      <th>...</th>\n",
       "      <td>...</td>\n",
       "      <td>...</td>\n",
       "      <td>...</td>\n",
       "      <td>...</td>\n",
       "      <td>...</td>\n",
       "      <td>...</td>\n",
       "      <td>...</td>\n",
       "      <td>...</td>\n",
       "      <td>...</td>\n",
       "      <td>...</td>\n",
       "      <td>...</td>\n",
       "      <td>...</td>\n",
       "      <td>...</td>\n",
       "      <td>...</td>\n",
       "      <td>...</td>\n",
       "    </tr>\n",
       "    <tr>\n",
       "      <th>5806</th>\n",
       "      <td>5807</td>\n",
       "      <td>171.112762</td>\n",
       "      <td>11.246387</td>\n",
       "      <td>197.984628</td>\n",
       "      <td>158.643107</td>\n",
       "      <td>17.743678</td>\n",
       "      <td>280.370909</td>\n",
       "      <td>37.359323</td>\n",
       "      <td>61.707640</td>\n",
       "      <td>4.097129</td>\n",
       "      <td>14</td>\n",
       "      <td>5</td>\n",
       "      <td>2</td>\n",
       "      <td>100.000000</td>\n",
       "      <td>4.0</td>\n",
       "    </tr>\n",
       "    <tr>\n",
       "      <th>5807</th>\n",
       "      <td>5808</td>\n",
       "      <td>490.691667</td>\n",
       "      <td>275.340762</td>\n",
       "      <td>55.774170</td>\n",
       "      <td>132.336871</td>\n",
       "      <td>29.334724</td>\n",
       "      <td>108.043492</td>\n",
       "      <td>34.532542</td>\n",
       "      <td>21.528555</td>\n",
       "      <td>6.682549</td>\n",
       "      <td>8</td>\n",
       "      <td>6</td>\n",
       "      <td>2</td>\n",
       "      <td>100.000000</td>\n",
       "      <td>3.0</td>\n",
       "    </tr>\n",
       "    <tr>\n",
       "      <th>5808</th>\n",
       "      <td>5809</td>\n",
       "      <td>314.841798</td>\n",
       "      <td>41.892699</td>\n",
       "      <td>184.708551</td>\n",
       "      <td>82.105823</td>\n",
       "      <td>68.334578</td>\n",
       "      <td>105.568503</td>\n",
       "      <td>22.975564</td>\n",
       "      <td>92.725625</td>\n",
       "      <td>2.889698</td>\n",
       "      <td>12</td>\n",
       "      <td>2</td>\n",
       "      <td>3</td>\n",
       "      <td>100.000000</td>\n",
       "      <td>1.0</td>\n",
       "    </tr>\n",
       "    <tr>\n",
       "      <th>5809</th>\n",
       "      <td>5810</td>\n",
       "      <td>208.080473</td>\n",
       "      <td>165.533785</td>\n",
       "      <td>199.177255</td>\n",
       "      <td>100.796385</td>\n",
       "      <td>87.586488</td>\n",
       "      <td>166.469537</td>\n",
       "      <td>36.090620</td>\n",
       "      <td>25.836286</td>\n",
       "      <td>10.722393</td>\n",
       "      <td>6</td>\n",
       "      <td>2</td>\n",
       "      <td>3</td>\n",
       "      <td>100.000000</td>\n",
       "      <td>4.0</td>\n",
       "    </tr>\n",
       "    <tr>\n",
       "      <th>5810</th>\n",
       "      <td>5811</td>\n",
       "      <td>83.269257</td>\n",
       "      <td>82.216262</td>\n",
       "      <td>119.968244</td>\n",
       "      <td>193.440691</td>\n",
       "      <td>79.849177</td>\n",
       "      <td>28.681885</td>\n",
       "      <td>18.239090</td>\n",
       "      <td>77.096194</td>\n",
       "      <td>16.410320</td>\n",
       "      <td>14</td>\n",
       "      <td>2</td>\n",
       "      <td>2</td>\n",
       "      <td>81.668298</td>\n",
       "      <td>0.0</td>\n",
       "    </tr>\n",
       "  </tbody>\n",
       "</table>\n",
       "<p>5811 rows × 15 columns</p>\n",
       "</div>"
      ],
      "text/plain": [
       "      RecordID         AQI        PM10       PM2_5         NO2        SO2  \\\n",
       "0            1  187.270059  295.853039   13.038560    6.639263  66.161150   \n",
       "1            2  475.357153  246.254703    9.984497   16.318326  90.499523   \n",
       "2            3  365.996971   84.443191   23.111340   96.317811  17.875850   \n",
       "3            4  299.329242   21.020609   14.273403   81.234403  48.323616   \n",
       "4            5   78.009320   16.987667  152.111623  121.235461  90.866167   \n",
       "...        ...         ...         ...         ...         ...        ...   \n",
       "5806      5807  171.112762   11.246387  197.984628  158.643107  17.743678   \n",
       "5807      5808  490.691667  275.340762   55.774170  132.336871  29.334724   \n",
       "5808      5809  314.841798   41.892699  184.708551   82.105823  68.334578   \n",
       "5809      5810  208.080473  165.533785  199.177255  100.796385  87.586488   \n",
       "5810      5811   83.269257   82.216262  119.968244  193.440691  79.849177   \n",
       "\n",
       "              O3  Temperature   Humidity  WindSpeed  RespiratoryCases  \\\n",
       "0      54.624280     5.150335  84.424344   6.137755                 7   \n",
       "1     169.621728     1.543378  46.851415   4.521422                10   \n",
       "2       9.006794     1.169483  17.806977  11.157384                13   \n",
       "3      93.161033    21.925276  99.473373  15.302500                 8   \n",
       "4     241.795138     9.217517  24.906837  14.534733                 9   \n",
       "...          ...          ...        ...        ...               ...   \n",
       "5806  280.370909    37.359323  61.707640   4.097129                14   \n",
       "5807  108.043492    34.532542  21.528555   6.682549                 8   \n",
       "5808  105.568503    22.975564  92.725625   2.889698                12   \n",
       "5809  166.469537    36.090620  25.836286  10.722393                 6   \n",
       "5810   28.681885    18.239090  77.096194  16.410320                14   \n",
       "\n",
       "      CardiovascularCases  HospitalAdmissions  HealthImpactScore  \\\n",
       "0                       5                   1          97.244041   \n",
       "1                       2                   0         100.000000   \n",
       "2                       3                   0         100.000000   \n",
       "3                       8                   1         100.000000   \n",
       "4                       0                   1          95.182643   \n",
       "...                   ...                 ...                ...   \n",
       "5806                    5                   2         100.000000   \n",
       "5807                    6                   2         100.000000   \n",
       "5808                    2                   3         100.000000   \n",
       "5809                    2                   3         100.000000   \n",
       "5810                    2                   2          81.668298   \n",
       "\n",
       "      HealthImpactClass  \n",
       "0                   0.0  \n",
       "1                   0.0  \n",
       "2                   0.0  \n",
       "3                   0.0  \n",
       "4                   0.0  \n",
       "...                 ...  \n",
       "5806                4.0  \n",
       "5807                3.0  \n",
       "5808                1.0  \n",
       "5809                4.0  \n",
       "5810                0.0  \n",
       "\n",
       "[5811 rows x 15 columns]"
      ]
     },
     "execution_count": 2,
     "metadata": {},
     "output_type": "execute_result"
    }
   ],
   "source": [
    "df = pd.read_csv('air_quality_health_impact_data.csv')\n",
    "df"
   ]
  },
  {
   "cell_type": "markdown",
   "id": "a459f5ea",
   "metadata": {},
   "source": [
    "## 2. Prepare data"
   ]
  },
  {
   "cell_type": "markdown",
   "id": "890bc5ec",
   "metadata": {},
   "source": [
    "We have no missing values."
   ]
  },
  {
   "cell_type": "code",
   "execution_count": 3,
   "id": "72bc7e20",
   "metadata": {},
   "outputs": [
    {
     "data": {
      "text/plain": [
       "RecordID               0\n",
       "AQI                    0\n",
       "PM10                   0\n",
       "PM2_5                  0\n",
       "NO2                    0\n",
       "SO2                    0\n",
       "O3                     0\n",
       "Temperature            0\n",
       "Humidity               0\n",
       "WindSpeed              0\n",
       "RespiratoryCases       0\n",
       "CardiovascularCases    0\n",
       "HospitalAdmissions     0\n",
       "HealthImpactScore      0\n",
       "HealthImpactClass      0\n",
       "dtype: int64"
      ]
     },
     "execution_count": 3,
     "metadata": {},
     "output_type": "execute_result"
    }
   ],
   "source": [
    "df.isnull().sum()"
   ]
  },
  {
   "cell_type": "markdown",
   "id": "71cb2c9a",
   "metadata": {},
   "source": [
    "We modify the target class type to `int`, due to it being a ordinal categorical variable."
   ]
  },
  {
   "cell_type": "code",
   "execution_count": 4,
   "id": "28ecd49e",
   "metadata": {},
   "outputs": [
    {
     "data": {
      "text/plain": [
       "numpy.float64"
      ]
     },
     "execution_count": 4,
     "metadata": {},
     "output_type": "execute_result"
    }
   ],
   "source": [
    "type(df['HealthImpactClass'][0])"
   ]
  },
  {
   "cell_type": "code",
   "execution_count": 5,
   "id": "37b312d1",
   "metadata": {},
   "outputs": [
    {
     "data": {
      "text/plain": [
       "numpy.int32"
      ]
     },
     "execution_count": 5,
     "metadata": {},
     "output_type": "execute_result"
    }
   ],
   "source": [
    "df['HealthImpactClass'] = df['HealthImpactClass'].astype(int)\n",
    "type(df['HealthImpactClass'][0])"
   ]
  },
  {
   "cell_type": "markdown",
   "id": "928ed2de",
   "metadata": {},
   "source": [
    "We drop the `RecordID` field, as it does not provide any relevant information to the classification task."
   ]
  },
  {
   "cell_type": "code",
   "execution_count": 6,
   "id": "74bbe56a",
   "metadata": {},
   "outputs": [
    {
     "data": {
      "text/html": [
       "<div>\n",
       "<style scoped>\n",
       "    .dataframe tbody tr th:only-of-type {\n",
       "        vertical-align: middle;\n",
       "    }\n",
       "\n",
       "    .dataframe tbody tr th {\n",
       "        vertical-align: top;\n",
       "    }\n",
       "\n",
       "    .dataframe thead th {\n",
       "        text-align: right;\n",
       "    }\n",
       "</style>\n",
       "<table border=\"1\" class=\"dataframe\">\n",
       "  <thead>\n",
       "    <tr style=\"text-align: right;\">\n",
       "      <th></th>\n",
       "      <th>AQI</th>\n",
       "      <th>PM10</th>\n",
       "      <th>PM2_5</th>\n",
       "      <th>NO2</th>\n",
       "      <th>SO2</th>\n",
       "      <th>O3</th>\n",
       "      <th>Temperature</th>\n",
       "      <th>Humidity</th>\n",
       "      <th>WindSpeed</th>\n",
       "      <th>RespiratoryCases</th>\n",
       "      <th>CardiovascularCases</th>\n",
       "      <th>HospitalAdmissions</th>\n",
       "      <th>HealthImpactScore</th>\n",
       "      <th>HealthImpactClass</th>\n",
       "    </tr>\n",
       "  </thead>\n",
       "  <tbody>\n",
       "    <tr>\n",
       "      <th>0</th>\n",
       "      <td>187.270059</td>\n",
       "      <td>295.853039</td>\n",
       "      <td>13.038560</td>\n",
       "      <td>6.639263</td>\n",
       "      <td>66.161150</td>\n",
       "      <td>54.624280</td>\n",
       "      <td>5.150335</td>\n",
       "      <td>84.424344</td>\n",
       "      <td>6.137755</td>\n",
       "      <td>7</td>\n",
       "      <td>5</td>\n",
       "      <td>1</td>\n",
       "      <td>97.244041</td>\n",
       "      <td>0</td>\n",
       "    </tr>\n",
       "    <tr>\n",
       "      <th>1</th>\n",
       "      <td>475.357153</td>\n",
       "      <td>246.254703</td>\n",
       "      <td>9.984497</td>\n",
       "      <td>16.318326</td>\n",
       "      <td>90.499523</td>\n",
       "      <td>169.621728</td>\n",
       "      <td>1.543378</td>\n",
       "      <td>46.851415</td>\n",
       "      <td>4.521422</td>\n",
       "      <td>10</td>\n",
       "      <td>2</td>\n",
       "      <td>0</td>\n",
       "      <td>100.000000</td>\n",
       "      <td>0</td>\n",
       "    </tr>\n",
       "    <tr>\n",
       "      <th>2</th>\n",
       "      <td>365.996971</td>\n",
       "      <td>84.443191</td>\n",
       "      <td>23.111340</td>\n",
       "      <td>96.317811</td>\n",
       "      <td>17.875850</td>\n",
       "      <td>9.006794</td>\n",
       "      <td>1.169483</td>\n",
       "      <td>17.806977</td>\n",
       "      <td>11.157384</td>\n",
       "      <td>13</td>\n",
       "      <td>3</td>\n",
       "      <td>0</td>\n",
       "      <td>100.000000</td>\n",
       "      <td>0</td>\n",
       "    </tr>\n",
       "    <tr>\n",
       "      <th>3</th>\n",
       "      <td>299.329242</td>\n",
       "      <td>21.020609</td>\n",
       "      <td>14.273403</td>\n",
       "      <td>81.234403</td>\n",
       "      <td>48.323616</td>\n",
       "      <td>93.161033</td>\n",
       "      <td>21.925276</td>\n",
       "      <td>99.473373</td>\n",
       "      <td>15.302500</td>\n",
       "      <td>8</td>\n",
       "      <td>8</td>\n",
       "      <td>1</td>\n",
       "      <td>100.000000</td>\n",
       "      <td>0</td>\n",
       "    </tr>\n",
       "    <tr>\n",
       "      <th>4</th>\n",
       "      <td>78.009320</td>\n",
       "      <td>16.987667</td>\n",
       "      <td>152.111623</td>\n",
       "      <td>121.235461</td>\n",
       "      <td>90.866167</td>\n",
       "      <td>241.795138</td>\n",
       "      <td>9.217517</td>\n",
       "      <td>24.906837</td>\n",
       "      <td>14.534733</td>\n",
       "      <td>9</td>\n",
       "      <td>0</td>\n",
       "      <td>1</td>\n",
       "      <td>95.182643</td>\n",
       "      <td>0</td>\n",
       "    </tr>\n",
       "    <tr>\n",
       "      <th>...</th>\n",
       "      <td>...</td>\n",
       "      <td>...</td>\n",
       "      <td>...</td>\n",
       "      <td>...</td>\n",
       "      <td>...</td>\n",
       "      <td>...</td>\n",
       "      <td>...</td>\n",
       "      <td>...</td>\n",
       "      <td>...</td>\n",
       "      <td>...</td>\n",
       "      <td>...</td>\n",
       "      <td>...</td>\n",
       "      <td>...</td>\n",
       "      <td>...</td>\n",
       "    </tr>\n",
       "    <tr>\n",
       "      <th>5806</th>\n",
       "      <td>171.112762</td>\n",
       "      <td>11.246387</td>\n",
       "      <td>197.984628</td>\n",
       "      <td>158.643107</td>\n",
       "      <td>17.743678</td>\n",
       "      <td>280.370909</td>\n",
       "      <td>37.359323</td>\n",
       "      <td>61.707640</td>\n",
       "      <td>4.097129</td>\n",
       "      <td>14</td>\n",
       "      <td>5</td>\n",
       "      <td>2</td>\n",
       "      <td>100.000000</td>\n",
       "      <td>4</td>\n",
       "    </tr>\n",
       "    <tr>\n",
       "      <th>5807</th>\n",
       "      <td>490.691667</td>\n",
       "      <td>275.340762</td>\n",
       "      <td>55.774170</td>\n",
       "      <td>132.336871</td>\n",
       "      <td>29.334724</td>\n",
       "      <td>108.043492</td>\n",
       "      <td>34.532542</td>\n",
       "      <td>21.528555</td>\n",
       "      <td>6.682549</td>\n",
       "      <td>8</td>\n",
       "      <td>6</td>\n",
       "      <td>2</td>\n",
       "      <td>100.000000</td>\n",
       "      <td>3</td>\n",
       "    </tr>\n",
       "    <tr>\n",
       "      <th>5808</th>\n",
       "      <td>314.841798</td>\n",
       "      <td>41.892699</td>\n",
       "      <td>184.708551</td>\n",
       "      <td>82.105823</td>\n",
       "      <td>68.334578</td>\n",
       "      <td>105.568503</td>\n",
       "      <td>22.975564</td>\n",
       "      <td>92.725625</td>\n",
       "      <td>2.889698</td>\n",
       "      <td>12</td>\n",
       "      <td>2</td>\n",
       "      <td>3</td>\n",
       "      <td>100.000000</td>\n",
       "      <td>1</td>\n",
       "    </tr>\n",
       "    <tr>\n",
       "      <th>5809</th>\n",
       "      <td>208.080473</td>\n",
       "      <td>165.533785</td>\n",
       "      <td>199.177255</td>\n",
       "      <td>100.796385</td>\n",
       "      <td>87.586488</td>\n",
       "      <td>166.469537</td>\n",
       "      <td>36.090620</td>\n",
       "      <td>25.836286</td>\n",
       "      <td>10.722393</td>\n",
       "      <td>6</td>\n",
       "      <td>2</td>\n",
       "      <td>3</td>\n",
       "      <td>100.000000</td>\n",
       "      <td>4</td>\n",
       "    </tr>\n",
       "    <tr>\n",
       "      <th>5810</th>\n",
       "      <td>83.269257</td>\n",
       "      <td>82.216262</td>\n",
       "      <td>119.968244</td>\n",
       "      <td>193.440691</td>\n",
       "      <td>79.849177</td>\n",
       "      <td>28.681885</td>\n",
       "      <td>18.239090</td>\n",
       "      <td>77.096194</td>\n",
       "      <td>16.410320</td>\n",
       "      <td>14</td>\n",
       "      <td>2</td>\n",
       "      <td>2</td>\n",
       "      <td>81.668298</td>\n",
       "      <td>0</td>\n",
       "    </tr>\n",
       "  </tbody>\n",
       "</table>\n",
       "<p>5811 rows × 14 columns</p>\n",
       "</div>"
      ],
      "text/plain": [
       "             AQI        PM10       PM2_5         NO2        SO2          O3  \\\n",
       "0     187.270059  295.853039   13.038560    6.639263  66.161150   54.624280   \n",
       "1     475.357153  246.254703    9.984497   16.318326  90.499523  169.621728   \n",
       "2     365.996971   84.443191   23.111340   96.317811  17.875850    9.006794   \n",
       "3     299.329242   21.020609   14.273403   81.234403  48.323616   93.161033   \n",
       "4      78.009320   16.987667  152.111623  121.235461  90.866167  241.795138   \n",
       "...          ...         ...         ...         ...        ...         ...   \n",
       "5806  171.112762   11.246387  197.984628  158.643107  17.743678  280.370909   \n",
       "5807  490.691667  275.340762   55.774170  132.336871  29.334724  108.043492   \n",
       "5808  314.841798   41.892699  184.708551   82.105823  68.334578  105.568503   \n",
       "5809  208.080473  165.533785  199.177255  100.796385  87.586488  166.469537   \n",
       "5810   83.269257   82.216262  119.968244  193.440691  79.849177   28.681885   \n",
       "\n",
       "      Temperature   Humidity  WindSpeed  RespiratoryCases  \\\n",
       "0        5.150335  84.424344   6.137755                 7   \n",
       "1        1.543378  46.851415   4.521422                10   \n",
       "2        1.169483  17.806977  11.157384                13   \n",
       "3       21.925276  99.473373  15.302500                 8   \n",
       "4        9.217517  24.906837  14.534733                 9   \n",
       "...           ...        ...        ...               ...   \n",
       "5806    37.359323  61.707640   4.097129                14   \n",
       "5807    34.532542  21.528555   6.682549                 8   \n",
       "5808    22.975564  92.725625   2.889698                12   \n",
       "5809    36.090620  25.836286  10.722393                 6   \n",
       "5810    18.239090  77.096194  16.410320                14   \n",
       "\n",
       "      CardiovascularCases  HospitalAdmissions  HealthImpactScore  \\\n",
       "0                       5                   1          97.244041   \n",
       "1                       2                   0         100.000000   \n",
       "2                       3                   0         100.000000   \n",
       "3                       8                   1         100.000000   \n",
       "4                       0                   1          95.182643   \n",
       "...                   ...                 ...                ...   \n",
       "5806                    5                   2         100.000000   \n",
       "5807                    6                   2         100.000000   \n",
       "5808                    2                   3         100.000000   \n",
       "5809                    2                   3         100.000000   \n",
       "5810                    2                   2          81.668298   \n",
       "\n",
       "      HealthImpactClass  \n",
       "0                     0  \n",
       "1                     0  \n",
       "2                     0  \n",
       "3                     0  \n",
       "4                     0  \n",
       "...                 ...  \n",
       "5806                  4  \n",
       "5807                  3  \n",
       "5808                  1  \n",
       "5809                  4  \n",
       "5810                  0  \n",
       "\n",
       "[5811 rows x 14 columns]"
      ]
     },
     "execution_count": 6,
     "metadata": {},
     "output_type": "execute_result"
    }
   ],
   "source": [
    "df.drop(columns=['RecordID'], axis=1, inplace=True)\n",
    "df"
   ]
  },
  {
   "cell_type": "markdown",
   "id": "680e64a9",
   "metadata": {},
   "source": [
    "## 2. Split data"
   ]
  },
  {
   "cell_type": "code",
   "execution_count": 7,
   "id": "7c1fb747",
   "metadata": {},
   "outputs": [],
   "source": [
    "X = df.drop(columns=['HealthImpactScore', 'HealthImpactClass'], axis=1)\n",
    "y = df['HealthImpactClass']"
   ]
  },
  {
   "cell_type": "markdown",
   "id": "633cef99",
   "metadata": {},
   "source": [
    "We scale the data because they are not measured in the same units and/or magnitude."
   ]
  },
  {
   "cell_type": "code",
   "execution_count": 8,
   "id": "486ba70f",
   "metadata": {},
   "outputs": [],
   "source": [
    "scaler = StandardScaler()\n",
    "X_scaled = scaler.fit_transform(X)"
   ]
  },
  {
   "cell_type": "code",
   "execution_count": 9,
   "id": "0e4050e1",
   "metadata": {},
   "outputs": [
    {
     "data": {
      "text/plain": [
       "0    4808\n",
       "1     579\n",
       "2     273\n",
       "3      95\n",
       "4      56\n",
       "Name: HealthImpactClass, dtype: int64"
      ]
     },
     "execution_count": 9,
     "metadata": {},
     "output_type": "execute_result"
    }
   ],
   "source": [
    "df['HealthImpactClass'].value_counts()"
   ]
  },
  {
   "cell_type": "markdown",
   "id": "6dc2cfa6",
   "metadata": {},
   "source": [
    "We have imbalanced classes, having some with few instances. We, therefore, use SMOTE (Synthetic Minority Over-Sampling Technique) to generate synthetic samples for these minority classes, which helps balance the dataset and improves the model's ability to learn and predict the minority classes effectively."
   ]
  },
  {
   "cell_type": "code",
   "execution_count": 10,
   "id": "d96209c4",
   "metadata": {},
   "outputs": [],
   "source": [
    "smote = SMOTE(sampling_strategy={2:546, 3: 285, 4: 224}, random_state=42)\n",
    "X_resampled, y_resampled = smote.fit_resample(X, y)"
   ]
  },
  {
   "cell_type": "markdown",
   "id": "19bee53c",
   "metadata": {},
   "source": [
    "We use `stratify` in the splitting to ensure that all classes appear in train and test sets, by maintaining the same class distribution as the original dataset, after applying SMOTE."
   ]
  },
  {
   "cell_type": "code",
   "execution_count": 11,
   "id": "ce197fb0",
   "metadata": {},
   "outputs": [],
   "source": [
    "X_train, X_test, y_train, y_test = train_test_split(X_resampled, y_resampled, test_size=0.2, random_state=42, stratify=y_resampled)"
   ]
  },
  {
   "cell_type": "markdown",
   "id": "23eab1e8",
   "metadata": {},
   "source": [
    "## 3. Train and evaluate data"
   ]
  },
  {
   "cell_type": "markdown",
   "id": "a7701ce2",
   "metadata": {},
   "source": [
    "We try various ensemble methods to train the data: AdaBoost, Random Forest, XGBoost."
   ]
  },
  {
   "cell_type": "markdown",
   "id": "b7095b23",
   "metadata": {},
   "source": [
    "### 3.1. AdaBoost"
   ]
  },
  {
   "cell_type": "code",
   "execution_count": 12,
   "id": "e04aba04",
   "metadata": {},
   "outputs": [
    {
     "name": "stdout",
     "output_type": "stream",
     "text": [
      "Classification Report:\n",
      "              precision    recall  f1-score   support\n",
      "\n",
      "           0       0.88      0.94      0.91       962\n",
      "           1       0.40      0.43      0.41       116\n",
      "           2       0.54      0.41      0.47       109\n",
      "           3       0.15      0.05      0.08        57\n",
      "           4       0.12      0.09      0.10        45\n",
      "\n",
      "    accuracy                           0.78      1289\n",
      "   macro avg       0.42      0.39      0.39      1289\n",
      "weighted avg       0.75      0.78      0.76      1289\n",
      "\n"
     ]
    }
   ],
   "source": [
    "# Create and train AdaBoost classifier\n",
    "adaboost_clf = AdaBoostClassifier(n_estimators=100, random_state=42)\n",
    "adaboost_clf.fit(X_train, y_train)\n",
    "\n",
    "# Predict on test set\n",
    "y_pred_adaboost = adaboost_clf.predict(X_test)\n",
    "\n",
    "# Evaluate model\n",
    "print(\"Classification Report:\")\n",
    "print(classification_report(y_test, y_pred_adaboost))"
   ]
  },
  {
   "cell_type": "markdown",
   "id": "e5886da5",
   "metadata": {},
   "source": [
    "### 3.2. Random Forest"
   ]
  },
  {
   "cell_type": "code",
   "execution_count": 13,
   "id": "00958025",
   "metadata": {},
   "outputs": [
    {
     "name": "stdout",
     "output_type": "stream",
     "text": [
      "Classification Report:\n",
      "              precision    recall  f1-score   support\n",
      "\n",
      "           0       0.90      0.99      0.94       962\n",
      "           1       0.81      0.56      0.66       116\n",
      "           2       0.88      0.78      0.83       109\n",
      "           3       1.00      0.39      0.56        57\n",
      "           4       1.00      0.51      0.68        45\n",
      "\n",
      "    accuracy                           0.89      1289\n",
      "   macro avg       0.92      0.65      0.73      1289\n",
      "weighted avg       0.90      0.89      0.88      1289\n",
      "\n"
     ]
    }
   ],
   "source": [
    "# Create and train Random Forest classifier\n",
    "rf_clf = RandomForestClassifier(random_state=42)\n",
    "rf_clf.fit(X_train, y_train)\n",
    "\n",
    "# Predict on test set\n",
    "y_pred_rf = rf_clf.predict(X_test)\n",
    "\n",
    "# Evaluate model\n",
    "print(\"Classification Report:\")\n",
    "print(classification_report(y_test, y_pred_rf))"
   ]
  },
  {
   "cell_type": "markdown",
   "id": "aa00db30",
   "metadata": {},
   "source": [
    "### 3.3. XGBoost"
   ]
  },
  {
   "cell_type": "code",
   "execution_count": 14,
   "id": "fe468e9d",
   "metadata": {},
   "outputs": [
    {
     "name": "stdout",
     "output_type": "stream",
     "text": [
      "Classification Report:\n",
      "              precision    recall  f1-score   support\n",
      "\n",
      "           0       0.92      0.99      0.95       962\n",
      "           1       0.79      0.63      0.70       116\n",
      "           2       0.81      0.81      0.81       109\n",
      "           3       1.00      0.51      0.67        57\n",
      "           4       0.96      0.56      0.70        45\n",
      "\n",
      "    accuracy                           0.90      1289\n",
      "   macro avg       0.90      0.70      0.77      1289\n",
      "weighted avg       0.90      0.90      0.90      1289\n",
      "\n"
     ]
    }
   ],
   "source": [
    "# Create and train XGBoost classifier\n",
    "xgb_clf = XGBClassifier(n_estimators=100, objective='multi:softmax')\n",
    "xgb_clf.fit(X_train, y_train)\n",
    "\n",
    "# Make predictions on the test set\n",
    "y_pred_xgb = xgb_clf.predict(X_test)\n",
    "\n",
    "# Evaluate model\n",
    "print(\"Classification Report:\")\n",
    "print(classification_report(y_test, y_pred_xgb))"
   ]
  },
  {
   "cell_type": "markdown",
   "id": "67c87af6",
   "metadata": {},
   "source": [
    "## 4. Save best model"
   ]
  },
  {
   "cell_type": "markdown",
   "id": "e9f686de",
   "metadata": {},
   "source": [
    "Overall, the model that gave us the best performance was XGBoost. We save it."
   ]
  },
  {
   "cell_type": "code",
   "execution_count": 15,
   "id": "863825f7",
   "metadata": {},
   "outputs": [
    {
     "data": {
      "text/plain": [
       "['xgboost_model.joblib']"
      ]
     },
     "execution_count": 15,
     "metadata": {},
     "output_type": "execute_result"
    }
   ],
   "source": [
    "joblib.dump(xgb_clf, 'xgboost_model.joblib')"
   ]
  }
 ],
 "metadata": {
  "kernelspec": {
   "display_name": "Python 3",
   "language": "python",
   "name": "python3"
  },
  "language_info": {
   "codemirror_mode": {
    "name": "ipython",
    "version": 3
   },
   "file_extension": ".py",
   "mimetype": "text/x-python",
   "name": "python",
   "nbconvert_exporter": "python",
   "pygments_lexer": "ipython3",
   "version": "3.8.8"
  }
 },
 "nbformat": 4,
 "nbformat_minor": 5
}
